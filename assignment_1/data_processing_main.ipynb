{
 "cells": [
  {
   "cell_type": "code",
   "execution_count": 69,
   "id": "35e2649a-3d78-4738-9f50-6662a632d75d",
   "metadata": {},
   "outputs": [],
   "source": [
    "import os\n",
    "import glob\n",
    "import pandas as pd\n",
    "import matplotlib.pyplot as plt\n",
    "import numpy as np\n",
    "import random\n",
    "from datetime import datetime, timedelta, date\n",
    "from dateutil.relativedelta import relativedelta\n",
    "import pprint\n",
    "import pyspark\n",
    "import pyspark.sql.functions as F\n",
    "import importlib, utils\n",
    "\n",
    "from pyspark.sql.functions import col\n",
    "from pyspark.sql.types import StringType, IntegerType, FloatType, DateType\n",
    "\n",
    "import utils.data_processing_bronze_table\n",
    "import utils.data_processing_silver_table\n",
    "import utils.data_processing_gold_table"
   ]
  },
  {
   "cell_type": "markdown",
   "id": "dcb94483-bed6-46af-8c1e-0741f3659d5b",
   "metadata": {},
   "source": [
    "## Set up Spark session"
   ]
  },
  {
   "cell_type": "code",
   "execution_count": 2,
   "id": "f32dfaf8-e9e0-46bc-a8a3-4449430db442",
   "metadata": {},
   "outputs": [
    {
     "name": "stderr",
     "output_type": "stream",
     "text": [
      "Setting default log level to \"WARN\".\n",
      "To adjust logging level use sc.setLogLevel(newLevel). For SparkR, use setLogLevel(newLevel).\n",
      "25/10/05 07:53:15 WARN NativeCodeLoader: Unable to load native-hadoop library for your platform... using builtin-java classes where applicable\n"
     ]
    }
   ],
   "source": [
    "# Initialize SparkSession\n",
    "spark = pyspark.sql.SparkSession.builder \\\n",
    "    .appName(\"dev\") \\\n",
    "    .master(\"local[*]\") \\\n",
    "    .getOrCreate()\n",
    "\n",
    "# Set log level to ERROR to hide warnings\n",
    "spark.sparkContext.setLogLevel(\"ERROR\")"
   ]
  },
  {
   "cell_type": "markdown",
   "id": "0c0c164e-77bb-4659-add1-1c0a2542d339",
   "metadata": {},
   "source": [
    "## Set up Config"
   ]
  },
  {
   "cell_type": "code",
   "execution_count": 30,
   "id": "521b3cec-23b8-42da-86e3-81581f972b22",
   "metadata": {},
   "outputs": [],
   "source": [
    "# generate list of dates to process\n",
    "def generate_first_of_month_dates(start_date_str, end_date_str):\n",
    "    # Convert the date strings to datetime objects\n",
    "    start_date = datetime.strptime(start_date_str, \"%Y-%m-%d\")\n",
    "    end_date = datetime.strptime(end_date_str, \"%Y-%m-%d\")\n",
    "    \n",
    "    # List to store the first of month dates\n",
    "    first_of_month_dates = []\n",
    "\n",
    "    # Start from the first of the month of the start_date\n",
    "    current_date = datetime(start_date.year, start_date.month, 1)\n",
    "\n",
    "    while current_date <= end_date:\n",
    "        # Append the date in yyyy-mm-dd format\n",
    "        first_of_month_dates.append(current_date.strftime(\"%Y-%m-%d\"))\n",
    "        \n",
    "        # Move to the first of the next month\n",
    "        if current_date.month == 12:\n",
    "            current_date = datetime(current_date.year + 1, 1, 1)\n",
    "        else:\n",
    "            current_date = datetime(current_date.year, current_date.month + 1, 1)\n",
    "\n",
    "    return first_of_month_dates"
   ]
  },
  {
   "cell_type": "markdown",
   "id": "dd2ea4bb-be6c-40be-aea3-ec5573faf621",
   "metadata": {},
   "source": [
    "## Build Bronze Table"
   ]
  },
  {
   "cell_type": "code",
   "execution_count": 62,
   "id": "81afa7d7-9fed-4c36-9a8f-54234a7b9ca6",
   "metadata": {},
   "outputs": [],
   "source": [
    "BRONZE_DATASETS = [\n",
    "    {\n",
    "        \"name\": \"feature_clickstream\",\n",
    "        \"csv_file_path\": \"data/feature_clickstream.csv\",\n",
    "        \"bronze_partition\": \"bronze_features_clickstream_\",\n",
    "        \"bronze_path\": \"datamart/bronze/features_clickstream/\",\n",
    "        \"update_type\": \"append\"\n",
    "    },\n",
    "    {\n",
    "        \"name\": \"features_attributes\",\n",
    "        \"csv_file_path\": \"data/features_attributes.csv\",\n",
    "        \"bronze_partition\": \"bronze_features_attribute_\",\n",
    "        \"bronze_path\": \"datamart/bronze/features_attributes/\",\n",
    "        \"update_type\": \"overwrite\"\n",
    "    },\n",
    "    {\n",
    "        # Overwrite-at-source; we stamp each ingest with \"today\"\n",
    "        \"name\": \"features_financials\",\n",
    "        \"csv_file_path\": \"data/features_financials.csv\",\n",
    "        \"bronze_partition\": \"bronze_features_financials_\",\n",
    "        \"bronze_path\": \"datamart/bronze/features_financials/\",\n",
    "        \"update_type\": \"overwrite\"\n",
    "    },\n",
    "    {\n",
    "        \"name\": \"lms_loan_daily\",\n",
    "        \"csv_file_path\": \"data/lms_loan_daily.csv\",\n",
    "        \"bronze_partition\": \"bronze_lms_loan_daily_\",\n",
    "        \"bronze_path\": \"datamart/bronze/lms_loan_daily/\",\n",
    "        \"update_type\": \"append\"\n",
    "    },\n",
    "]"
   ]
  },
  {
   "cell_type": "code",
   "execution_count": 63,
   "id": "21f0c4f8-9f80-4db1-a8b4-3898ae41a523",
   "metadata": {},
   "outputs": [],
   "source": [
    "dates_str_lst = {}\n",
    "\n",
    "for file in BRONZE_DATASETS:\n",
    "\n",
    "    table_name = file[\"name\"]\n",
    "    csv_file_path = file[\"csv_file_path\"]\n",
    "    update_type = file[\"update_type\"]\n",
    "\n",
    "    if update_type==\"append\":\n",
    "        df = pd.read_csv(file[\"csv_file_path\"])\n",
    "        min_date = df[\"snapshot_date\"].min()\n",
    "        max_date = df[\"snapshot_date\"].max()\n",
    "        dates = generate_first_of_month_dates(min_date, max_date)\n",
    "\n",
    "    else:\n",
    "        min_date = pd.to_datetime(date.today()).strftime(\"%Y-%m-%d\")\n",
    "        max_date = min_date\n",
    "        dates = generate_first_of_month_dates(min_date, max_date)\n",
    "\n",
    "    dates_str_lst[table_name] = dates"
   ]
  },
  {
   "cell_type": "code",
   "execution_count": 64,
   "id": "1e512c17-4a24-4850-ad4c-7369e9127c33",
   "metadata": {
    "scrolled": true
   },
   "outputs": [
    {
     "data": {
      "text/plain": [
       "{'feature_clickstream': ['2023-01-01',\n",
       "  '2023-02-01',\n",
       "  '2023-03-01',\n",
       "  '2023-04-01',\n",
       "  '2023-05-01',\n",
       "  '2023-06-01',\n",
       "  '2023-07-01',\n",
       "  '2023-08-01',\n",
       "  '2023-09-01',\n",
       "  '2023-10-01',\n",
       "  '2023-11-01',\n",
       "  '2023-12-01',\n",
       "  '2024-01-01',\n",
       "  '2024-02-01',\n",
       "  '2024-03-01',\n",
       "  '2024-04-01',\n",
       "  '2024-05-01',\n",
       "  '2024-06-01',\n",
       "  '2024-07-01',\n",
       "  '2024-08-01',\n",
       "  '2024-09-01',\n",
       "  '2024-10-01',\n",
       "  '2024-11-01',\n",
       "  '2024-12-01'],\n",
       " 'features_attributes': ['2025-10-01'],\n",
       " 'features_financials': ['2025-10-01'],\n",
       " 'lms_loan_daily': ['2023-01-01',\n",
       "  '2023-02-01',\n",
       "  '2023-03-01',\n",
       "  '2023-04-01',\n",
       "  '2023-05-01',\n",
       "  '2023-06-01',\n",
       "  '2023-07-01',\n",
       "  '2023-08-01',\n",
       "  '2023-09-01',\n",
       "  '2023-10-01',\n",
       "  '2023-11-01',\n",
       "  '2023-12-01',\n",
       "  '2024-01-01',\n",
       "  '2024-02-01',\n",
       "  '2024-03-01',\n",
       "  '2024-04-01',\n",
       "  '2024-05-01',\n",
       "  '2024-06-01',\n",
       "  '2024-07-01',\n",
       "  '2024-08-01',\n",
       "  '2024-09-01',\n",
       "  '2024-10-01',\n",
       "  '2024-11-01',\n",
       "  '2024-12-01',\n",
       "  '2025-01-01',\n",
       "  '2025-02-01',\n",
       "  '2025-03-01',\n",
       "  '2025-04-01',\n",
       "  '2025-05-01',\n",
       "  '2025-06-01',\n",
       "  '2025-07-01',\n",
       "  '2025-08-01',\n",
       "  '2025-09-01',\n",
       "  '2025-10-01',\n",
       "  '2025-11-01']}"
      ]
     },
     "execution_count": 64,
     "metadata": {},
     "output_type": "execute_result"
    }
   ],
   "source": [
    "dates_str_lst"
   ]
  },
  {
   "cell_type": "code",
   "execution_count": 66,
   "id": "8d1f6d9b-6303-425a-b1f5-c52f92dc2e2d",
   "metadata": {
    "scrolled": true
   },
   "outputs": [
    {
     "name": "stderr",
     "output_type": "stream",
     "text": [
      "                                                                                "
     ]
    },
    {
     "name": "stdout",
     "output_type": "stream",
     "text": [
      "2023-01-01row count: 8974\n",
      "saved to: datamart/bronze/features_clickstream/bronze_features_clickstream_2023_01_01.csv\n",
      "2023-02-01row count: 8974\n",
      "saved to: datamart/bronze/features_clickstream/bronze_features_clickstream_2023_02_01.csv\n",
      "2023-03-01row count: 8974\n",
      "saved to: datamart/bronze/features_clickstream/bronze_features_clickstream_2023_03_01.csv\n",
      "2023-04-01row count: 8974\n",
      "saved to: datamart/bronze/features_clickstream/bronze_features_clickstream_2023_04_01.csv\n",
      "2023-05-01row count: 8974\n",
      "saved to: datamart/bronze/features_clickstream/bronze_features_clickstream_2023_05_01.csv\n",
      "2023-06-01row count: 8974\n"
     ]
    },
    {
     "name": "stderr",
     "output_type": "stream",
     "text": [
      "                                                                                "
     ]
    },
    {
     "name": "stdout",
     "output_type": "stream",
     "text": [
      "saved to: datamart/bronze/features_clickstream/bronze_features_clickstream_2023_06_01.csv\n",
      "2023-07-01row count: 8974\n",
      "saved to: datamart/bronze/features_clickstream/bronze_features_clickstream_2023_07_01.csv\n",
      "2023-08-01row count: 8974\n",
      "saved to: datamart/bronze/features_clickstream/bronze_features_clickstream_2023_08_01.csv\n"
     ]
    },
    {
     "name": "stderr",
     "output_type": "stream",
     "text": [
      "                                                                                "
     ]
    },
    {
     "name": "stdout",
     "output_type": "stream",
     "text": [
      "2023-09-01row count: 8974\n"
     ]
    },
    {
     "name": "stderr",
     "output_type": "stream",
     "text": [
      "                                                                                "
     ]
    },
    {
     "name": "stdout",
     "output_type": "stream",
     "text": [
      "saved to: datamart/bronze/features_clickstream/bronze_features_clickstream_2023_09_01.csv\n"
     ]
    },
    {
     "name": "stderr",
     "output_type": "stream",
     "text": [
      "                                                                                "
     ]
    },
    {
     "name": "stdout",
     "output_type": "stream",
     "text": [
      "2023-10-01row count: 8974\n"
     ]
    },
    {
     "name": "stderr",
     "output_type": "stream",
     "text": [
      "                                                                                "
     ]
    },
    {
     "name": "stdout",
     "output_type": "stream",
     "text": [
      "saved to: datamart/bronze/features_clickstream/bronze_features_clickstream_2023_10_01.csv\n",
      "2023-11-01row count: 8974\n"
     ]
    },
    {
     "name": "stderr",
     "output_type": "stream",
     "text": [
      "                                                                                "
     ]
    },
    {
     "name": "stdout",
     "output_type": "stream",
     "text": [
      "saved to: datamart/bronze/features_clickstream/bronze_features_clickstream_2023_11_01.csv\n"
     ]
    },
    {
     "name": "stderr",
     "output_type": "stream",
     "text": [
      "                                                                                "
     ]
    },
    {
     "name": "stdout",
     "output_type": "stream",
     "text": [
      "2023-12-01row count: 8974\n"
     ]
    },
    {
     "name": "stderr",
     "output_type": "stream",
     "text": [
      "                                                                                "
     ]
    },
    {
     "name": "stdout",
     "output_type": "stream",
     "text": [
      "saved to: datamart/bronze/features_clickstream/bronze_features_clickstream_2023_12_01.csv\n"
     ]
    },
    {
     "name": "stderr",
     "output_type": "stream",
     "text": [
      "                                                                                "
     ]
    },
    {
     "name": "stdout",
     "output_type": "stream",
     "text": [
      "2024-01-01row count: 8974\n",
      "saved to: datamart/bronze/features_clickstream/bronze_features_clickstream_2024_01_01.csv\n"
     ]
    },
    {
     "name": "stderr",
     "output_type": "stream",
     "text": [
      "                                                                                "
     ]
    },
    {
     "name": "stdout",
     "output_type": "stream",
     "text": [
      "2024-02-01row count: 8974\n",
      "saved to: datamart/bronze/features_clickstream/bronze_features_clickstream_2024_02_01.csv\n",
      "2024-03-01row count: 8974\n",
      "saved to: datamart/bronze/features_clickstream/bronze_features_clickstream_2024_03_01.csv\n"
     ]
    },
    {
     "name": "stderr",
     "output_type": "stream",
     "text": [
      "                                                                                "
     ]
    },
    {
     "name": "stdout",
     "output_type": "stream",
     "text": [
      "2024-04-01row count: 8974\n"
     ]
    },
    {
     "name": "stderr",
     "output_type": "stream",
     "text": [
      "                                                                                "
     ]
    },
    {
     "name": "stdout",
     "output_type": "stream",
     "text": [
      "saved to: datamart/bronze/features_clickstream/bronze_features_clickstream_2024_04_01.csv\n",
      "2024-05-01row count: 8974\n"
     ]
    },
    {
     "name": "stderr",
     "output_type": "stream",
     "text": [
      "                                                                                "
     ]
    },
    {
     "name": "stdout",
     "output_type": "stream",
     "text": [
      "saved to: datamart/bronze/features_clickstream/bronze_features_clickstream_2024_05_01.csv\n"
     ]
    },
    {
     "name": "stderr",
     "output_type": "stream",
     "text": [
      "                                                                                "
     ]
    },
    {
     "name": "stdout",
     "output_type": "stream",
     "text": [
      "2024-06-01row count: 8974\n"
     ]
    },
    {
     "name": "stderr",
     "output_type": "stream",
     "text": [
      "                                                                                "
     ]
    },
    {
     "name": "stdout",
     "output_type": "stream",
     "text": [
      "saved to: datamart/bronze/features_clickstream/bronze_features_clickstream_2024_06_01.csv\n",
      "2024-07-01row count: 8974\n",
      "saved to: datamart/bronze/features_clickstream/bronze_features_clickstream_2024_07_01.csv\n"
     ]
    },
    {
     "name": "stderr",
     "output_type": "stream",
     "text": [
      "                                                                                "
     ]
    },
    {
     "name": "stdout",
     "output_type": "stream",
     "text": [
      "2024-08-01row count: 8974\n"
     ]
    },
    {
     "name": "stderr",
     "output_type": "stream",
     "text": [
      "                                                                                "
     ]
    },
    {
     "name": "stdout",
     "output_type": "stream",
     "text": [
      "saved to: datamart/bronze/features_clickstream/bronze_features_clickstream_2024_08_01.csv\n"
     ]
    },
    {
     "name": "stderr",
     "output_type": "stream",
     "text": [
      "                                                                                "
     ]
    },
    {
     "name": "stdout",
     "output_type": "stream",
     "text": [
      "2024-09-01row count: 8974\n"
     ]
    },
    {
     "name": "stderr",
     "output_type": "stream",
     "text": [
      "                                                                                "
     ]
    },
    {
     "name": "stdout",
     "output_type": "stream",
     "text": [
      "saved to: datamart/bronze/features_clickstream/bronze_features_clickstream_2024_09_01.csv\n",
      "2024-10-01row count: 8974\n"
     ]
    },
    {
     "name": "stderr",
     "output_type": "stream",
     "text": [
      "                                                                                "
     ]
    },
    {
     "name": "stdout",
     "output_type": "stream",
     "text": [
      "saved to: datamart/bronze/features_clickstream/bronze_features_clickstream_2024_10_01.csv\n",
      "2024-11-01row count: 8974\n",
      "saved to: datamart/bronze/features_clickstream/bronze_features_clickstream_2024_11_01.csv\n",
      "2024-12-01row count: 8974\n"
     ]
    },
    {
     "name": "stderr",
     "output_type": "stream",
     "text": [
      "                                                                                "
     ]
    },
    {
     "name": "stdout",
     "output_type": "stream",
     "text": [
      "saved to: datamart/bronze/features_clickstream/bronze_features_clickstream_2024_12_01.csv\n",
      "2025-10-01row count: 12500\n",
      "saved to: datamart/bronze/features_attributes/bronze_features_attribute_2025_10_01.csv\n",
      "2025-10-01row count: 12500\n"
     ]
    },
    {
     "name": "stderr",
     "output_type": "stream",
     "text": [
      "                                                                                "
     ]
    },
    {
     "name": "stdout",
     "output_type": "stream",
     "text": [
      "saved to: datamart/bronze/features_financials/bronze_features_financials_2025_10_01.csv\n",
      "2023-01-01row count: 530\n"
     ]
    },
    {
     "name": "stderr",
     "output_type": "stream",
     "text": [
      "                                                                                "
     ]
    },
    {
     "name": "stdout",
     "output_type": "stream",
     "text": [
      "saved to: datamart/bronze/lms_loan_daily/bronze_lms_loan_daily_2023_01_01.csv\n",
      "2023-02-01row count: 1031\n",
      "saved to: datamart/bronze/lms_loan_daily/bronze_lms_loan_daily_2023_02_01.csv\n",
      "2023-03-01row count: 1537\n",
      "saved to: datamart/bronze/lms_loan_daily/bronze_lms_loan_daily_2023_03_01.csv\n",
      "2023-04-01row count: 2047\n"
     ]
    },
    {
     "name": "stderr",
     "output_type": "stream",
     "text": [
      "                                                                                "
     ]
    },
    {
     "name": "stdout",
     "output_type": "stream",
     "text": [
      "saved to: datamart/bronze/lms_loan_daily/bronze_lms_loan_daily_2023_04_01.csv\n"
     ]
    },
    {
     "name": "stderr",
     "output_type": "stream",
     "text": [
      "                                                                                "
     ]
    },
    {
     "name": "stdout",
     "output_type": "stream",
     "text": [
      "2023-05-01row count: 2568\n",
      "saved to: datamart/bronze/lms_loan_daily/bronze_lms_loan_daily_2023_05_01.csv\n",
      "2023-06-01row count: 3085\n",
      "saved to: datamart/bronze/lms_loan_daily/bronze_lms_loan_daily_2023_06_01.csv\n",
      "2023-07-01row count: 3556\n",
      "saved to: datamart/bronze/lms_loan_daily/bronze_lms_loan_daily_2023_07_01.csv\n",
      "2023-08-01row count: 4037\n",
      "saved to: datamart/bronze/lms_loan_daily/bronze_lms_loan_daily_2023_08_01.csv\n",
      "2023-09-01row count: 4491\n",
      "saved to: datamart/bronze/lms_loan_daily/bronze_lms_loan_daily_2023_09_01.csv\n",
      "2023-10-01row count: 4978\n",
      "saved to: datamart/bronze/lms_loan_daily/bronze_lms_loan_daily_2023_10_01.csv\n",
      "2023-11-01row count: 5469\n",
      "saved to: datamart/bronze/lms_loan_daily/bronze_lms_loan_daily_2023_11_01.csv\n",
      "2023-12-01row count: 5428\n",
      "saved to: datamart/bronze/lms_loan_daily/bronze_lms_loan_daily_2023_12_01.csv\n",
      "2024-01-01row count: 5412\n",
      "saved to: datamart/bronze/lms_loan_daily/bronze_lms_loan_daily_2024_01_01.csv\n",
      "2024-02-01row count: 5424\n",
      "saved to: datamart/bronze/lms_loan_daily/bronze_lms_loan_daily_2024_02_01.csv\n",
      "2024-03-01row count: 5425\n",
      "saved to: datamart/bronze/lms_loan_daily/bronze_lms_loan_daily_2024_03_01.csv\n",
      "2024-04-01row count: 5417\n",
      "saved to: datamart/bronze/lms_loan_daily/bronze_lms_loan_daily_2024_04_01.csv\n",
      "2024-05-01row count: 5391\n",
      "saved to: datamart/bronze/lms_loan_daily/bronze_lms_loan_daily_2024_05_01.csv\n",
      "2024-06-01row count: 5418\n",
      "saved to: datamart/bronze/lms_loan_daily/bronze_lms_loan_daily_2024_06_01.csv\n",
      "2024-07-01row count: 5442\n",
      "saved to: datamart/bronze/lms_loan_daily/bronze_lms_loan_daily_2024_07_01.csv\n",
      "2024-08-01row count: 5531\n",
      "saved to: datamart/bronze/lms_loan_daily/bronze_lms_loan_daily_2024_08_01.csv\n",
      "2024-09-01row count: 5537\n",
      "saved to: datamart/bronze/lms_loan_daily/bronze_lms_loan_daily_2024_09_01.csv\n",
      "2024-10-01row count: 5502\n",
      "saved to: datamart/bronze/lms_loan_daily/bronze_lms_loan_daily_2024_10_01.csv\n",
      "2024-11-01row count: 5501\n",
      "saved to: datamart/bronze/lms_loan_daily/bronze_lms_loan_daily_2024_11_01.csv\n",
      "2024-12-01row count: 5531\n",
      "saved to: datamart/bronze/lms_loan_daily/bronze_lms_loan_daily_2024_12_01.csv\n"
     ]
    },
    {
     "name": "stderr",
     "output_type": "stream",
     "text": [
      "                                                                                "
     ]
    },
    {
     "name": "stdout",
     "output_type": "stream",
     "text": [
      "2025-01-01row count: 5539\n",
      "saved to: datamart/bronze/lms_loan_daily/bronze_lms_loan_daily_2025_01_01.csv\n",
      "2025-02-01row count: 5028\n"
     ]
    },
    {
     "name": "stderr",
     "output_type": "stream",
     "text": [
      "                                                                                "
     ]
    },
    {
     "name": "stdout",
     "output_type": "stream",
     "text": [
      "saved to: datamart/bronze/lms_loan_daily/bronze_lms_loan_daily_2025_02_01.csv\n",
      "2025-03-01row count: 4515\n",
      "saved to: datamart/bronze/lms_loan_daily/bronze_lms_loan_daily_2025_03_01.csv\n",
      "2025-04-01row count: 4024\n",
      "saved to: datamart/bronze/lms_loan_daily/bronze_lms_loan_daily_2025_04_01.csv\n",
      "2025-05-01row count: 3526\n",
      "saved to: datamart/bronze/lms_loan_daily/bronze_lms_loan_daily_2025_05_01.csv\n",
      "2025-06-01row count: 3021\n",
      "saved to: datamart/bronze/lms_loan_daily/bronze_lms_loan_daily_2025_06_01.csv\n",
      "2025-07-01row count: 2478\n",
      "saved to: datamart/bronze/lms_loan_daily/bronze_lms_loan_daily_2025_07_01.csv\n",
      "2025-08-01row count: 1985\n",
      "saved to: datamart/bronze/lms_loan_daily/bronze_lms_loan_daily_2025_08_01.csv\n",
      "2025-09-01row count: 1529\n",
      "saved to: datamart/bronze/lms_loan_daily/bronze_lms_loan_daily_2025_09_01.csv\n",
      "2025-10-01row count: 1041\n"
     ]
    },
    {
     "name": "stderr",
     "output_type": "stream",
     "text": [
      "                                                                                "
     ]
    },
    {
     "name": "stdout",
     "output_type": "stream",
     "text": [
      "saved to: datamart/bronze/lms_loan_daily/bronze_lms_loan_daily_2025_10_01.csv\n",
      "2025-11-01row count: 526\n",
      "saved to: datamart/bronze/lms_loan_daily/bronze_lms_loan_daily_2025_11_01.csv\n"
     ]
    }
   ],
   "source": [
    "for file in BRONZE_DATASETS:\n",
    "\n",
    "    table_name = file[\"name\"]\n",
    "    csv_file_path = file[\"csv_file_path\"]\n",
    "    bronze_directory = file[\"bronze_path\"]\n",
    "    bronze_partition = file[\"bronze_partition\"]\n",
    "    update_type = file[\"update_type\"]\n",
    "    df = pd.read_csv(csv_file_path)\n",
    "\n",
    "    if not os.path.exists(bronze_directory):\n",
    "        os.makedirs(bronze_directory)\n",
    "    \n",
    "    if update_type==\"append\":\n",
    "        # run bronze backfill\n",
    "        for date_str in dates_str_lst[table_name]:\n",
    "            utils.data_processing_bronze_table.process_bronze_table_append(date_str, csv_file_path, bronze_partition, bronze_directory, spark)\n",
    "\n",
    "    else:\n",
    "        # run bronze backfill\n",
    "        for date_str in dates_str_lst[table_name]:\n",
    "            utils.data_processing_bronze_table.process_bronze_table_overwrite(date_str, csv_file_path, bronze_partition, bronze_directory, spark)"
   ]
  },
  {
   "cell_type": "markdown",
   "id": "5ca1d458-3f89-40e2-817e-93a994ec6875",
   "metadata": {},
   "source": [
    "## Build Silver Table"
   ]
  },
  {
   "cell_type": "code",
   "execution_count": 67,
   "id": "970347b7-aefb-45c0-a494-d8e3d4fbe3de",
   "metadata": {},
   "outputs": [],
   "source": [
    "SILVER_DATASETS = [\n",
    "    {\n",
    "        \"name\": \"feature_clickstream\",\n",
    "        \"bronze_path\": \"datamart/bronze/features_clickstream/\",\n",
    "        \"silver_path\": \"datamart/silver/features_clickstream/\"\n",
    "    },\n",
    "    {\n",
    "        \"name\": \"features_attributes\",\n",
    "        \"bronze_path\": \"datamart/bronze/features_attributes/\",\n",
    "        \"silver_path\": \"datamart/silver/features_attributes/\"\n",
    "    },\n",
    "    {\n",
    "        \"name\": \"features_financials\",\n",
    "        \"bronze_path\": \"datamart/bronze/features_financials/\",\n",
    "        \"silver_path\": \"datamart/silver/features_financials/\"\n",
    "    },\n",
    "    {\n",
    "        \"name\": \"lms_loan_daily\",\n",
    "        \"bronze_path\": \"datamart/bronze/lms_loan_daily/\",\n",
    "        \"silver_path\": \"datamart/silver/lms_loan_daily/\"\n",
    "    },\n",
    "]"
   ]
  },
  {
   "cell_type": "code",
   "execution_count": 68,
   "id": "2365499c-baa1-40b4-85b3-c5b4e9908eda",
   "metadata": {
    "scrolled": true
   },
   "outputs": [
    {
     "name": "stdout",
     "output_type": "stream",
     "text": [
      "loaded from: datamart/bronze/features_clickstream/bronze_features_clickstream_2023_01_01.csv row count: 8974\n"
     ]
    },
    {
     "name": "stderr",
     "output_type": "stream",
     "text": [
      "                                                                                "
     ]
    },
    {
     "name": "stdout",
     "output_type": "stream",
     "text": [
      "saved to: datamart/silver/features_clickstream/silver_features_clickstream_2023_01_01.parquet\n",
      "loaded from: datamart/bronze/features_clickstream/bronze_features_clickstream_2023_02_01.csv row count: 8974\n"
     ]
    },
    {
     "name": "stderr",
     "output_type": "stream",
     "text": [
      "                                                                                "
     ]
    },
    {
     "name": "stdout",
     "output_type": "stream",
     "text": [
      "saved to: datamart/silver/features_clickstream/silver_features_clickstream_2023_02_01.parquet\n",
      "loaded from: datamart/bronze/features_clickstream/bronze_features_clickstream_2023_03_01.csv row count: 8974\n",
      "saved to: datamart/silver/features_clickstream/silver_features_clickstream_2023_03_01.parquet\n",
      "loaded from: datamart/bronze/features_clickstream/bronze_features_clickstream_2023_04_01.csv row count: 8974\n"
     ]
    },
    {
     "name": "stderr",
     "output_type": "stream",
     "text": [
      "                                                                                "
     ]
    },
    {
     "name": "stdout",
     "output_type": "stream",
     "text": [
      "saved to: datamart/silver/features_clickstream/silver_features_clickstream_2023_04_01.parquet\n",
      "loaded from: datamart/bronze/features_clickstream/bronze_features_clickstream_2023_05_01.csv row count: 8974\n"
     ]
    },
    {
     "name": "stderr",
     "output_type": "stream",
     "text": [
      "                                                                                "
     ]
    },
    {
     "name": "stdout",
     "output_type": "stream",
     "text": [
      "saved to: datamart/silver/features_clickstream/silver_features_clickstream_2023_05_01.parquet\n",
      "loaded from: datamart/bronze/features_clickstream/bronze_features_clickstream_2023_06_01.csv row count: 8974\n"
     ]
    },
    {
     "name": "stderr",
     "output_type": "stream",
     "text": [
      "                                                                                "
     ]
    },
    {
     "name": "stdout",
     "output_type": "stream",
     "text": [
      "saved to: datamart/silver/features_clickstream/silver_features_clickstream_2023_06_01.parquet\n",
      "loaded from: datamart/bronze/features_clickstream/bronze_features_clickstream_2023_07_01.csv row count: 8974\n"
     ]
    },
    {
     "name": "stderr",
     "output_type": "stream",
     "text": [
      "                                                                                "
     ]
    },
    {
     "name": "stdout",
     "output_type": "stream",
     "text": [
      "saved to: datamart/silver/features_clickstream/silver_features_clickstream_2023_07_01.parquet\n",
      "loaded from: datamart/bronze/features_clickstream/bronze_features_clickstream_2023_08_01.csv row count: 8974\n"
     ]
    },
    {
     "name": "stderr",
     "output_type": "stream",
     "text": [
      "                                                                                "
     ]
    },
    {
     "name": "stdout",
     "output_type": "stream",
     "text": [
      "saved to: datamart/silver/features_clickstream/silver_features_clickstream_2023_08_01.parquet\n",
      "loaded from: datamart/bronze/features_clickstream/bronze_features_clickstream_2023_09_01.csv row count: 8974\n"
     ]
    },
    {
     "name": "stderr",
     "output_type": "stream",
     "text": [
      "                                                                                "
     ]
    },
    {
     "name": "stdout",
     "output_type": "stream",
     "text": [
      "saved to: datamart/silver/features_clickstream/silver_features_clickstream_2023_09_01.parquet\n",
      "loaded from: datamart/bronze/features_clickstream/bronze_features_clickstream_2023_10_01.csv row count: 8974\n",
      "saved to: datamart/silver/features_clickstream/silver_features_clickstream_2023_10_01.parquet\n",
      "loaded from: datamart/bronze/features_clickstream/bronze_features_clickstream_2023_11_01.csv row count: 8974\n"
     ]
    },
    {
     "name": "stderr",
     "output_type": "stream",
     "text": [
      "                                                                                "
     ]
    },
    {
     "name": "stdout",
     "output_type": "stream",
     "text": [
      "saved to: datamart/silver/features_clickstream/silver_features_clickstream_2023_11_01.parquet\n",
      "loaded from: datamart/bronze/features_clickstream/bronze_features_clickstream_2023_12_01.csv row count: 8974\n",
      "saved to: datamart/silver/features_clickstream/silver_features_clickstream_2023_12_01.parquet\n",
      "loaded from: datamart/bronze/features_clickstream/bronze_features_clickstream_2024_01_01.csv row count: 8974\n",
      "saved to: datamart/silver/features_clickstream/silver_features_clickstream_2024_01_01.parquet\n",
      "loaded from: datamart/bronze/features_clickstream/bronze_features_clickstream_2024_02_01.csv row count: 8974\n",
      "saved to: datamart/silver/features_clickstream/silver_features_clickstream_2024_02_01.parquet\n",
      "loaded from: datamart/bronze/features_clickstream/bronze_features_clickstream_2024_03_01.csv row count: 8974\n",
      "saved to: datamart/silver/features_clickstream/silver_features_clickstream_2024_03_01.parquet\n",
      "loaded from: datamart/bronze/features_clickstream/bronze_features_clickstream_2024_04_01.csv row count: 8974\n",
      "saved to: datamart/silver/features_clickstream/silver_features_clickstream_2024_04_01.parquet\n",
      "loaded from: datamart/bronze/features_clickstream/bronze_features_clickstream_2024_05_01.csv row count: 8974\n",
      "saved to: datamart/silver/features_clickstream/silver_features_clickstream_2024_05_01.parquet\n",
      "loaded from: datamart/bronze/features_clickstream/bronze_features_clickstream_2024_06_01.csv row count: 8974\n",
      "saved to: datamart/silver/features_clickstream/silver_features_clickstream_2024_06_01.parquet\n",
      "loaded from: datamart/bronze/features_clickstream/bronze_features_clickstream_2024_07_01.csv row count: 8974\n",
      "saved to: datamart/silver/features_clickstream/silver_features_clickstream_2024_07_01.parquet\n",
      "loaded from: datamart/bronze/features_clickstream/bronze_features_clickstream_2024_08_01.csv row count: 8974\n",
      "saved to: datamart/silver/features_clickstream/silver_features_clickstream_2024_08_01.parquet\n",
      "loaded from: datamart/bronze/features_clickstream/bronze_features_clickstream_2024_09_01.csv row count: 8974\n",
      "saved to: datamart/silver/features_clickstream/silver_features_clickstream_2024_09_01.parquet\n",
      "loaded from: datamart/bronze/features_clickstream/bronze_features_clickstream_2024_10_01.csv row count: 8974\n",
      "saved to: datamart/silver/features_clickstream/silver_features_clickstream_2024_10_01.parquet\n",
      "loaded from: datamart/bronze/features_clickstream/bronze_features_clickstream_2024_11_01.csv row count: 8974\n"
     ]
    },
    {
     "name": "stderr",
     "output_type": "stream",
     "text": [
      "                                                                                "
     ]
    },
    {
     "name": "stdout",
     "output_type": "stream",
     "text": [
      "saved to: datamart/silver/features_clickstream/silver_features_clickstream_2024_11_01.parquet\n",
      "loaded from: datamart/bronze/features_clickstream/bronze_features_clickstream_2024_12_01.csv row count: 8974\n",
      "saved to: datamart/silver/features_clickstream/silver_features_clickstream_2024_12_01.parquet\n",
      "loaded from: datamart/bronze/features_attributes/bronze_features_attribute_2025_10_01.csv row count: 12500\n",
      "saved to: datamart/silver/features_attributes/silver_features_attributes_2025_10_01.parquet\n",
      "loaded from: datamart/bronze/features_financials/bronze_features_financials_2025_10_01.csv row count: 12500\n"
     ]
    },
    {
     "name": "stderr",
     "output_type": "stream",
     "text": [
      "                                                                                "
     ]
    },
    {
     "name": "stdout",
     "output_type": "stream",
     "text": [
      "saved to: datamart/silver/features_financials/silver_features_financials_2025_10_01.parquet\n",
      "loaded from: datamart/bronze/lms_loan_daily/bronze_lms_loan_daily_2023_01_01.csv row count: 530\n",
      "saved to: datamart/silver/lms_loan_daily/silver_lms_loan_daily_2023_01_01.parquet\n",
      "loaded from: datamart/bronze/lms_loan_daily/bronze_lms_loan_daily_2023_02_01.csv row count: 1031\n",
      "saved to: datamart/silver/lms_loan_daily/silver_lms_loan_daily_2023_02_01.parquet\n",
      "loaded from: datamart/bronze/lms_loan_daily/bronze_lms_loan_daily_2023_03_01.csv row count: 1537\n",
      "saved to: datamart/silver/lms_loan_daily/silver_lms_loan_daily_2023_03_01.parquet\n",
      "loaded from: datamart/bronze/lms_loan_daily/bronze_lms_loan_daily_2023_04_01.csv row count: 2047\n",
      "saved to: datamart/silver/lms_loan_daily/silver_lms_loan_daily_2023_04_01.parquet\n",
      "loaded from: datamart/bronze/lms_loan_daily/bronze_lms_loan_daily_2023_05_01.csv row count: 2568\n",
      "saved to: datamart/silver/lms_loan_daily/silver_lms_loan_daily_2023_05_01.parquet\n",
      "loaded from: datamart/bronze/lms_loan_daily/bronze_lms_loan_daily_2023_06_01.csv row count: 3085\n",
      "saved to: datamart/silver/lms_loan_daily/silver_lms_loan_daily_2023_06_01.parquet\n",
      "loaded from: datamart/bronze/lms_loan_daily/bronze_lms_loan_daily_2023_07_01.csv row count: 3556\n",
      "saved to: datamart/silver/lms_loan_daily/silver_lms_loan_daily_2023_07_01.parquet\n",
      "loaded from: datamart/bronze/lms_loan_daily/bronze_lms_loan_daily_2023_08_01.csv row count: 4037\n",
      "saved to: datamart/silver/lms_loan_daily/silver_lms_loan_daily_2023_08_01.parquet\n",
      "loaded from: datamart/bronze/lms_loan_daily/bronze_lms_loan_daily_2023_09_01.csv row count: 4491\n",
      "saved to: datamart/silver/lms_loan_daily/silver_lms_loan_daily_2023_09_01.parquet\n",
      "loaded from: datamart/bronze/lms_loan_daily/bronze_lms_loan_daily_2023_10_01.csv row count: 4978\n",
      "saved to: datamart/silver/lms_loan_daily/silver_lms_loan_daily_2023_10_01.parquet\n",
      "loaded from: datamart/bronze/lms_loan_daily/bronze_lms_loan_daily_2023_11_01.csv row count: 5469\n",
      "saved to: datamart/silver/lms_loan_daily/silver_lms_loan_daily_2023_11_01.parquet\n",
      "loaded from: datamart/bronze/lms_loan_daily/bronze_lms_loan_daily_2023_12_01.csv row count: 5428\n"
     ]
    },
    {
     "name": "stderr",
     "output_type": "stream",
     "text": [
      "                                                                                "
     ]
    },
    {
     "name": "stdout",
     "output_type": "stream",
     "text": [
      "saved to: datamart/silver/lms_loan_daily/silver_lms_loan_daily_2023_12_01.parquet\n",
      "loaded from: datamart/bronze/lms_loan_daily/bronze_lms_loan_daily_2024_01_01.csv row count: 5412\n",
      "saved to: datamart/silver/lms_loan_daily/silver_lms_loan_daily_2024_01_01.parquet\n",
      "loaded from: datamart/bronze/lms_loan_daily/bronze_lms_loan_daily_2024_02_01.csv row count: 5424\n",
      "saved to: datamart/silver/lms_loan_daily/silver_lms_loan_daily_2024_02_01.parquet\n",
      "loaded from: datamart/bronze/lms_loan_daily/bronze_lms_loan_daily_2024_03_01.csv row count: 5425\n"
     ]
    },
    {
     "name": "stderr",
     "output_type": "stream",
     "text": [
      "                                                                                "
     ]
    },
    {
     "name": "stdout",
     "output_type": "stream",
     "text": [
      "saved to: datamart/silver/lms_loan_daily/silver_lms_loan_daily_2024_03_01.parquet\n",
      "loaded from: datamart/bronze/lms_loan_daily/bronze_lms_loan_daily_2024_04_01.csv row count: 5417\n",
      "saved to: datamart/silver/lms_loan_daily/silver_lms_loan_daily_2024_04_01.parquet\n",
      "loaded from: datamart/bronze/lms_loan_daily/bronze_lms_loan_daily_2024_05_01.csv row count: 5391\n",
      "saved to: datamart/silver/lms_loan_daily/silver_lms_loan_daily_2024_05_01.parquet\n",
      "loaded from: datamart/bronze/lms_loan_daily/bronze_lms_loan_daily_2024_06_01.csv row count: 5418\n",
      "saved to: datamart/silver/lms_loan_daily/silver_lms_loan_daily_2024_06_01.parquet\n",
      "loaded from: datamart/bronze/lms_loan_daily/bronze_lms_loan_daily_2024_07_01.csv row count: 5442\n",
      "saved to: datamart/silver/lms_loan_daily/silver_lms_loan_daily_2024_07_01.parquet\n",
      "loaded from: datamart/bronze/lms_loan_daily/bronze_lms_loan_daily_2024_08_01.csv row count: 5531\n",
      "saved to: datamart/silver/lms_loan_daily/silver_lms_loan_daily_2024_08_01.parquet\n",
      "loaded from: datamart/bronze/lms_loan_daily/bronze_lms_loan_daily_2024_09_01.csv row count: 5537\n",
      "saved to: datamart/silver/lms_loan_daily/silver_lms_loan_daily_2024_09_01.parquet\n",
      "loaded from: datamart/bronze/lms_loan_daily/bronze_lms_loan_daily_2024_10_01.csv row count: 5502\n",
      "saved to: datamart/silver/lms_loan_daily/silver_lms_loan_daily_2024_10_01.parquet\n",
      "loaded from: datamart/bronze/lms_loan_daily/bronze_lms_loan_daily_2024_11_01.csv row count: 5501\n"
     ]
    },
    {
     "name": "stderr",
     "output_type": "stream",
     "text": [
      "                                                                                "
     ]
    },
    {
     "name": "stdout",
     "output_type": "stream",
     "text": [
      "saved to: datamart/silver/lms_loan_daily/silver_lms_loan_daily_2024_11_01.parquet\n",
      "loaded from: datamart/bronze/lms_loan_daily/bronze_lms_loan_daily_2024_12_01.csv row count: 5531\n",
      "saved to: datamart/silver/lms_loan_daily/silver_lms_loan_daily_2024_12_01.parquet\n",
      "loaded from: datamart/bronze/lms_loan_daily/bronze_lms_loan_daily_2025_01_01.csv row count: 5539\n",
      "saved to: datamart/silver/lms_loan_daily/silver_lms_loan_daily_2025_01_01.parquet\n",
      "loaded from: datamart/bronze/lms_loan_daily/bronze_lms_loan_daily_2025_02_01.csv row count: 5028\n",
      "saved to: datamart/silver/lms_loan_daily/silver_lms_loan_daily_2025_02_01.parquet\n",
      "loaded from: datamart/bronze/lms_loan_daily/bronze_lms_loan_daily_2025_03_01.csv row count: 4515\n",
      "saved to: datamart/silver/lms_loan_daily/silver_lms_loan_daily_2025_03_01.parquet\n",
      "loaded from: datamart/bronze/lms_loan_daily/bronze_lms_loan_daily_2025_04_01.csv row count: 4024\n",
      "saved to: datamart/silver/lms_loan_daily/silver_lms_loan_daily_2025_04_01.parquet\n",
      "loaded from: datamart/bronze/lms_loan_daily/bronze_lms_loan_daily_2025_05_01.csv row count: 3526\n",
      "saved to: datamart/silver/lms_loan_daily/silver_lms_loan_daily_2025_05_01.parquet\n",
      "loaded from: datamart/bronze/lms_loan_daily/bronze_lms_loan_daily_2025_06_01.csv row count: 3021\n",
      "saved to: datamart/silver/lms_loan_daily/silver_lms_loan_daily_2025_06_01.parquet\n",
      "loaded from: datamart/bronze/lms_loan_daily/bronze_lms_loan_daily_2025_07_01.csv row count: 2478\n",
      "saved to: datamart/silver/lms_loan_daily/silver_lms_loan_daily_2025_07_01.parquet\n",
      "loaded from: datamart/bronze/lms_loan_daily/bronze_lms_loan_daily_2025_08_01.csv row count: 1985\n",
      "saved to: datamart/silver/lms_loan_daily/silver_lms_loan_daily_2025_08_01.parquet\n",
      "loaded from: datamart/bronze/lms_loan_daily/bronze_lms_loan_daily_2025_09_01.csv row count: 1529\n",
      "saved to: datamart/silver/lms_loan_daily/silver_lms_loan_daily_2025_09_01.parquet\n",
      "loaded from: datamart/bronze/lms_loan_daily/bronze_lms_loan_daily_2025_10_01.csv row count: 1041\n",
      "saved to: datamart/silver/lms_loan_daily/silver_lms_loan_daily_2025_10_01.parquet\n",
      "loaded from: datamart/bronze/lms_loan_daily/bronze_lms_loan_daily_2025_11_01.csv row count: 526\n",
      "saved to: datamart/silver/lms_loan_daily/silver_lms_loan_daily_2025_11_01.parquet\n"
     ]
    }
   ],
   "source": [
    "# update silver processing file:\n",
    "importlib.reload(utils.data_processing_silver_table)\n",
    "silver_processing = importlib.import_module(\"utils.data_processing_silver_table\")\n",
    "\n",
    "for file in SILVER_DATASETS:\n",
    "\n",
    "    table_name = file[\"name\"]\n",
    "    bronze_directory = file[\"bronze_path\"]\n",
    "    silver_directory = file[\"silver_path\"]\n",
    "    func = silver_processing.REGISTRY.get(table_name)\n",
    "\n",
    "    if not os.path.exists(silver_directory):\n",
    "        os.makedirs(silver_directory)\n",
    "\n",
    "    # run silver backfill\n",
    "    for date_str in dates_str_lst[table_name]:\n",
    "        func(date_str, bronze_directory, silver_directory, spark)"
   ]
  },
  {
   "cell_type": "markdown",
   "id": "939e08ed-040f-4dbf-97c3-1b2942150d64",
   "metadata": {},
   "source": [
    "## EDA on credit labels"
   ]
  },
  {
   "cell_type": "code",
   "execution_count": 61,
   "id": "5b65bb75-3e24-4a20-99f7-b9d5876122f8",
   "metadata": {},
   "outputs": [
    {
     "name": "stderr",
     "output_type": "stream",
     "text": [
      "                                                                                "
     ]
    },
    {
     "data": {
      "image/png": "[encoded data removed]",
      "text/plain": [
       "<Figure size 640x480 with 1 Axes>"
      ]
     },
     "metadata": {},
     "output_type": "display_data"
    }
   ],
   "source": [
    "# set dpd label definition\n",
    "dpd = 30\n",
    "\n",
    "# Path to the folder containing CSV files\n",
    "folder_path = \"datamart/silver/lms_loan_daily/\"\n",
    "\n",
    "# Read all CSV files into a single DataFrame\n",
    "files_list = [folder_path+os.path.basename(f) for f in glob.glob(os.path.join(folder_path, '*'))]\n",
    "df = spark.read.option(\"header\", \"true\").parquet(*files_list)\n",
    "\n",
    "# filter only completed loans\n",
    "df = df.filter(col(\"loan_start_date\") < datetime.strptime(\"2024-01-01\", \"%Y-%m-%d\"))\n",
    "\n",
    "# create dpd flag if more than dpd\n",
    "df = df.withColumn(\"dpd_flag\", F.when(col(\"dpd\") >= dpd, 1).otherwise(0))\n",
    "\n",
    "# actual bads \n",
    "actual_bads_df = df.filter(col(\"installment_num\") == 10)\n",
    "\n",
    "# prepare for analysis\n",
    "# df = df.filter(col(\"installment_num\") < 10)\n",
    "\n",
    "# visualise bad rate\n",
    "pdf = df.toPandas()\n",
    "\n",
    "# Group by col_A and count occurrences in col_B\n",
    "grouped = pdf.groupby('mob')['dpd_flag'].mean()\n",
    "\n",
    "# Sort the index (x-axis) of the grouped DataFrame\n",
    "grouped = grouped.sort_index()\n",
    "\n",
    "# Plotting\n",
    "grouped.plot(kind='line', marker='o')\n",
    "\n",
    "plt.title('DPD: '+ str(dpd))\n",
    "plt.xlabel('mob')\n",
    "plt.ylabel('bad rate')\n",
    "plt.grid(True)\n",
    "plt.show()"
   ]
  },
  {
   "cell_type": "markdown",
   "id": "39c627e2-bb7a-4c60-a6ff-11a7538a3858",
   "metadata": {},
   "source": [
    "## Build Gold Table - Label Store"
   ]
  },
  {
   "cell_type": "code",
   "execution_count": 71,
   "id": "becc4db9-45f0-4bd8-b3a1-08ee6478fac5",
   "metadata": {},
   "outputs": [],
   "source": [
    "# create gold table datalake\n",
    "silver_directory = \"datamart/silver/lms_loan_daily/\"\n",
    "gold_label_store_directory = \"datamart/gold/label_store/\"\n",
    "\n",
    "if not os.path.exists(gold_label_store_directory):\n",
    "    os.makedirs(gold_label_store_directory)"
   ]
  },
  {
   "cell_type": "code",
   "execution_count": 72,
   "id": "54ed0976-2379-4cb1-982d-01e1835eefd1",
   "metadata": {
    "scrolled": true
   },
   "outputs": [
    {
     "name": "stderr",
     "output_type": "stream",
     "text": [
      "                                                                                "
     ]
    },
    {
     "name": "stdout",
     "output_type": "stream",
     "text": [
      "loaded from: datamart/silver/lms_loan_daily/silver_lms_loan_daily_2023_01_01.parquet row count: 530\n"
     ]
    },
    {
     "name": "stderr",
     "output_type": "stream",
     "text": [
      "                                                                                "
     ]
    },
    {
     "name": "stdout",
     "output_type": "stream",
     "text": [
      "saved to: datamart/gold/label_store/gold_label_store_2023_01_01.parquet\n",
      "loaded from: datamart/silver/lms_loan_daily/silver_lms_loan_daily_2023_02_01.parquet row count: 1031\n"
     ]
    },
    {
     "name": "stderr",
     "output_type": "stream",
     "text": [
      "                                                                                "
     ]
    },
    {
     "name": "stdout",
     "output_type": "stream",
     "text": [
      "saved to: datamart/gold/label_store/gold_label_store_2023_02_01.parquet\n",
      "loaded from: datamart/silver/lms_loan_daily/silver_lms_loan_daily_2023_03_01.parquet row count: 1537\n",
      "saved to: datamart/gold/label_store/gold_label_store_2023_03_01.parquet\n",
      "loaded from: datamart/silver/lms_loan_daily/silver_lms_loan_daily_2023_04_01.parquet row count: 2047\n",
      "saved to: datamart/gold/label_store/gold_label_store_2023_04_01.parquet\n",
      "loaded from: datamart/silver/lms_loan_daily/silver_lms_loan_daily_2023_05_01.parquet row count: 2568\n",
      "saved to: datamart/gold/label_store/gold_label_store_2023_05_01.parquet\n",
      "loaded from: datamart/silver/lms_loan_daily/silver_lms_loan_daily_2023_06_01.parquet row count: 3085\n",
      "saved to: datamart/gold/label_store/gold_label_store_2023_06_01.parquet\n",
      "loaded from: datamart/silver/lms_loan_daily/silver_lms_loan_daily_2023_07_01.parquet row count: 3556\n"
     ]
    },
    {
     "name": "stderr",
     "output_type": "stream",
     "text": [
      "                                                                                "
     ]
    },
    {
     "name": "stdout",
     "output_type": "stream",
     "text": [
      "saved to: datamart/gold/label_store/gold_label_store_2023_07_01.parquet\n",
      "loaded from: datamart/silver/lms_loan_daily/silver_lms_loan_daily_2023_08_01.parquet row count: 4037\n",
      "saved to: datamart/gold/label_store/gold_label_store_2023_08_01.parquet\n",
      "loaded from: datamart/silver/lms_loan_daily/silver_lms_loan_daily_2023_09_01.parquet row count: 4491\n",
      "saved to: datamart/gold/label_store/gold_label_store_2023_09_01.parquet\n",
      "loaded from: datamart/silver/lms_loan_daily/silver_lms_loan_daily_2023_10_01.parquet row count: 4978\n"
     ]
    },
    {
     "name": "stderr",
     "output_type": "stream",
     "text": [
      "                                                                                "
     ]
    },
    {
     "name": "stdout",
     "output_type": "stream",
     "text": [
      "saved to: datamart/gold/label_store/gold_label_store_2023_10_01.parquet\n",
      "loaded from: datamart/silver/lms_loan_daily/silver_lms_loan_daily_2023_11_01.parquet row count: 5469\n"
     ]
    },
    {
     "name": "stderr",
     "output_type": "stream",
     "text": [
      "                                                                                "
     ]
    },
    {
     "name": "stdout",
     "output_type": "stream",
     "text": [
      "saved to: datamart/gold/label_store/gold_label_store_2023_11_01.parquet\n",
      "loaded from: datamart/silver/lms_loan_daily/silver_lms_loan_daily_2023_12_01.parquet row count: 5428\n"
     ]
    },
    {
     "name": "stderr",
     "output_type": "stream",
     "text": [
      "                                                                                "
     ]
    },
    {
     "name": "stdout",
     "output_type": "stream",
     "text": [
      "saved to: datamart/gold/label_store/gold_label_store_2023_12_01.parquet\n",
      "loaded from: datamart/silver/lms_loan_daily/silver_lms_loan_daily_2024_01_01.parquet row count: 5412\n"
     ]
    },
    {
     "name": "stderr",
     "output_type": "stream",
     "text": [
      "                                                                                "
     ]
    },
    {
     "name": "stdout",
     "output_type": "stream",
     "text": [
      "saved to: datamart/gold/label_store/gold_label_store_2024_01_01.parquet\n",
      "loaded from: datamart/silver/lms_loan_daily/silver_lms_loan_daily_2024_02_01.parquet row count: 5424\n"
     ]
    },
    {
     "name": "stderr",
     "output_type": "stream",
     "text": [
      "                                                                                "
     ]
    },
    {
     "name": "stdout",
     "output_type": "stream",
     "text": [
      "saved to: datamart/gold/label_store/gold_label_store_2024_02_01.parquet\n",
      "loaded from: datamart/silver/lms_loan_daily/silver_lms_loan_daily_2024_03_01.parquet row count: 5425\n"
     ]
    },
    {
     "name": "stderr",
     "output_type": "stream",
     "text": [
      "                                                                                "
     ]
    },
    {
     "name": "stdout",
     "output_type": "stream",
     "text": [
      "saved to: datamart/gold/label_store/gold_label_store_2024_03_01.parquet\n",
      "loaded from: datamart/silver/lms_loan_daily/silver_lms_loan_daily_2024_04_01.parquet row count: 5417\n"
     ]
    },
    {
     "name": "stderr",
     "output_type": "stream",
     "text": [
      "                                                                                "
     ]
    },
    {
     "name": "stdout",
     "output_type": "stream",
     "text": [
      "saved to: datamart/gold/label_store/gold_label_store_2024_04_01.parquet\n",
      "loaded from: datamart/silver/lms_loan_daily/silver_lms_loan_daily_2024_05_01.parquet row count: 5391\n",
      "saved to: datamart/gold/label_store/gold_label_store_2024_05_01.parquet\n",
      "loaded from: datamart/silver/lms_loan_daily/silver_lms_loan_daily_2024_06_01.parquet row count: 5418\n",
      "saved to: datamart/gold/label_store/gold_label_store_2024_06_01.parquet\n",
      "loaded from: datamart/silver/lms_loan_daily/silver_lms_loan_daily_2024_07_01.parquet row count: 5442\n",
      "saved to: datamart/gold/label_store/gold_label_store_2024_07_01.parquet\n",
      "loaded from: datamart/silver/lms_loan_daily/silver_lms_loan_daily_2024_08_01.parquet row count: 5531\n",
      "saved to: datamart/gold/label_store/gold_label_store_2024_08_01.parquet\n",
      "loaded from: datamart/silver/lms_loan_daily/silver_lms_loan_daily_2024_09_01.parquet row count: 5537\n",
      "saved to: datamart/gold/label_store/gold_label_store_2024_09_01.parquet\n",
      "loaded from: datamart/silver/lms_loan_daily/silver_lms_loan_daily_2024_10_01.parquet row count: 5502\n",
      "saved to: datamart/gold/label_store/gold_label_store_2024_10_01.parquet\n",
      "loaded from: datamart/silver/lms_loan_daily/silver_lms_loan_daily_2024_11_01.parquet row count: 5501\n"
     ]
    },
    {
     "name": "stderr",
     "output_type": "stream",
     "text": [
      "                                                                                "
     ]
    },
    {
     "name": "stdout",
     "output_type": "stream",
     "text": [
      "saved to: datamart/gold/label_store/gold_label_store_2024_11_01.parquet\n",
      "loaded from: datamart/silver/lms_loan_daily/silver_lms_loan_daily_2024_12_01.parquet row count: 5531\n",
      "saved to: datamart/gold/label_store/gold_label_store_2024_12_01.parquet\n",
      "loaded from: datamart/silver/lms_loan_daily/silver_lms_loan_daily_2025_01_01.parquet row count: 5539\n",
      "saved to: datamart/gold/label_store/gold_label_store_2025_01_01.parquet\n",
      "loaded from: datamart/silver/lms_loan_daily/silver_lms_loan_daily_2025_02_01.parquet row count: 5028\n",
      "saved to: datamart/gold/label_store/gold_label_store_2025_02_01.parquet\n",
      "loaded from: datamart/silver/lms_loan_daily/silver_lms_loan_daily_2025_03_01.parquet row count: 4515\n"
     ]
    },
    {
     "name": "stderr",
     "output_type": "stream",
     "text": [
      "                                                                                "
     ]
    },
    {
     "name": "stdout",
     "output_type": "stream",
     "text": [
      "saved to: datamart/gold/label_store/gold_label_store_2025_03_01.parquet\n",
      "loaded from: datamart/silver/lms_loan_daily/silver_lms_loan_daily_2025_04_01.parquet row count: 4024\n",
      "saved to: datamart/gold/label_store/gold_label_store_2025_04_01.parquet\n",
      "loaded from: datamart/silver/lms_loan_daily/silver_lms_loan_daily_2025_05_01.parquet row count: 3526\n",
      "saved to: datamart/gold/label_store/gold_label_store_2025_05_01.parquet\n",
      "loaded from: datamart/silver/lms_loan_daily/silver_lms_loan_daily_2025_06_01.parquet row count: 3021\n",
      "saved to: datamart/gold/label_store/gold_label_store_2025_06_01.parquet\n",
      "loaded from: datamart/silver/lms_loan_daily/silver_lms_loan_daily_2025_07_01.parquet row count: 2478\n",
      "saved to: datamart/gold/label_store/gold_label_store_2025_07_01.parquet\n",
      "loaded from: datamart/silver/lms_loan_daily/silver_lms_loan_daily_2025_08_01.parquet row count: 1985\n",
      "saved to: datamart/gold/label_store/gold_label_store_2025_08_01.parquet\n",
      "loaded from: datamart/silver/lms_loan_daily/silver_lms_loan_daily_2025_09_01.parquet row count: 1529\n",
      "saved to: datamart/gold/label_store/gold_label_store_2025_09_01.parquet\n",
      "loaded from: datamart/silver/lms_loan_daily/silver_lms_loan_daily_2025_10_01.parquet row count: 1041\n",
      "saved to: datamart/gold/label_store/gold_label_store_2025_10_01.parquet\n",
      "loaded from: datamart/silver/lms_loan_daily/silver_lms_loan_daily_2025_11_01.parquet row count: 526\n"
     ]
    },
    {
     "name": "stderr",
     "output_type": "stream",
     "text": [
      "                                                                                "
     ]
    },
    {
     "name": "stdout",
     "output_type": "stream",
     "text": [
      "saved to: datamart/gold/label_store/gold_label_store_2025_11_01.parquet\n"
     ]
    }
   ],
   "source": [
    "for date_str in dates_str_lst[\"lms_loan_daily\"]:\n",
    "    utils.data_processing_gold_table.process_labels_gold_table(date_str, silver_directory, gold_label_store_directory, spark, dpd = 30, mob = 6)"
   ]
  },
  {
   "cell_type": "code",
   "execution_count": 73,
   "id": "3b9a8564-1651-4518-8473-789c7572b558",
   "metadata": {},
   "outputs": [
    {
     "name": "stdout",
     "output_type": "stream",
     "text": [
      "loaded from: datamart/silver/lms_loan_daily/silver_lms_loan_daily_2025_11_01.parquet row count: 526\n",
      "saved to: datamart/gold/label_store/gold_label_store_2025_11_01.parquet\n"
     ]
    },
    {
     "data": {
      "text/plain": [
       "[('loan_id', 'string'),\n",
       " ('Customer_ID', 'string'),\n",
       " ('label', 'int'),\n",
       " ('label_def', 'string'),\n",
       " ('snapshot_date', 'date')]"
      ]
     },
     "execution_count": 73,
     "metadata": {},
     "output_type": "execute_result"
    }
   ],
   "source": [
    "utils.data_processing_gold_table.process_labels_gold_table(date_str, silver_directory, gold_label_store_directory, spark, dpd = 30, mob = 6).dtypes"
   ]
  },
  {
   "cell_type": "code",
   "execution_count": 74,
   "id": "cdf4eafa-df04-4da7-b3e4-e7db765ca372",
   "metadata": {},
   "outputs": [
    {
     "name": "stderr",
     "output_type": "stream",
     "text": [
      "                                                                                "
     ]
    },
    {
     "name": "stdout",
     "output_type": "stream",
     "text": [
      "row_count: 12500\n",
      "+--------------------+-----------+-----+----------+-------------+\n",
      "|             loan_id|Customer_ID|label| label_def|snapshot_date|\n",
      "+--------------------+-----------+-----+----------+-------------+\n",
      "|CUS_0x10ac_2024_0...| CUS_0x10ac|    0|30dpd_6mob|   2025-02-01|\n",
      "|CUS_0x10c5_2024_0...| CUS_0x10c5|    1|30dpd_6mob|   2025-02-01|\n",
      "|CUS_0x1145_2024_0...| CUS_0x1145|    1|30dpd_6mob|   2025-02-01|\n",
      "|CUS_0x11ac_2024_0...| CUS_0x11ac|    0|30dpd_6mob|   2025-02-01|\n",
      "|CUS_0x122c_2024_0...| CUS_0x122c|    0|30dpd_6mob|   2025-02-01|\n",
      "|CUS_0x1274_2024_0...| CUS_0x1274|    1|30dpd_6mob|   2025-02-01|\n",
      "|CUS_0x1288_2024_0...| CUS_0x1288|    1|30dpd_6mob|   2025-02-01|\n",
      "|CUS_0x12cc_2024_0...| CUS_0x12cc|    1|30dpd_6mob|   2025-02-01|\n",
      "|CUS_0x1338_2024_0...| CUS_0x1338|    0|30dpd_6mob|   2025-02-01|\n",
      "|CUS_0x1370_2024_0...| CUS_0x1370|    1|30dpd_6mob|   2025-02-01|\n",
      "|CUS_0x1378_2024_0...| CUS_0x1378|    1|30dpd_6mob|   2025-02-01|\n",
      "|CUS_0x139b_2024_0...| CUS_0x139b|    0|30dpd_6mob|   2025-02-01|\n",
      "|CUS_0x13a9_2024_0...| CUS_0x13a9|    0|30dpd_6mob|   2025-02-01|\n",
      "|CUS_0x13ce_2024_0...| CUS_0x13ce|    0|30dpd_6mob|   2025-02-01|\n",
      "|CUS_0x147a_2024_0...| CUS_0x147a|    0|30dpd_6mob|   2025-02-01|\n",
      "|CUS_0x1510_2024_0...| CUS_0x1510|    1|30dpd_6mob|   2025-02-01|\n",
      "|CUS_0x1572_2024_0...| CUS_0x1572|    0|30dpd_6mob|   2025-02-01|\n",
      "|CUS_0x159b_2024_0...| CUS_0x159b|    0|30dpd_6mob|   2025-02-01|\n",
      "|CUS_0x15f1_2024_0...| CUS_0x15f1|    0|30dpd_6mob|   2025-02-01|\n",
      "|CUS_0x1621_2024_0...| CUS_0x1621|    0|30dpd_6mob|   2025-02-01|\n",
      "+--------------------+-----------+-----+----------+-------------+\n",
      "only showing top 20 rows\n",
      "\n"
     ]
    }
   ],
   "source": [
    "folder_path = gold_label_store_directory\n",
    "files_list = [folder_path+os.path.basename(f) for f in glob.glob(os.path.join(folder_path, '*'))]\n",
    "df = spark.read.option(\"header\", \"true\").parquet(*files_list)\n",
    "print(\"row_count:\",df.count())\n",
    "\n",
    "df.show()"
   ]
  },
  {
   "cell_type": "markdown",
   "id": "ad653671-f405-46cc-9ed1-2e24dba8870f",
   "metadata": {},
   "source": [
    "## Build Gold Table - Feature Store"
   ]
  },
  {
   "cell_type": "code",
   "execution_count": 88,
   "id": "24a58ec5-2e08-4075-9d1e-a3d8b5c3a163",
   "metadata": {},
   "outputs": [],
   "source": [
    "# create gold table datalake\n",
    "gold_label_store_directory = \"datamart/gold/label_store/\"\n",
    "gold_feature_store_directory = \"datamart/gold/feature_store/\"\n",
    "silver_attribute_directory = \"datamart/silver/features_attributes/\"\n",
    "silver_financials_directory = \"datamart/silver/features_financials/\"\n",
    "feature_date_str = dates_str_lst[\"features_attributes\"][0]\n",
    "\n",
    "if not os.path.exists(gold_feature_store_directory):\n",
    "    os.makedirs(gold_feature_store_directory)"
   ]
  },
  {
   "cell_type": "code",
   "execution_count": 99,
   "id": "4aa083ef-21a8-4c56-b641-b4636d3b45ef",
   "metadata": {},
   "outputs": [
    {
     "data": {
      "text/plain": [
       "<module 'utils.data_processing_gold_table' from '/app/utils/data_processing_gold_table.py'>"
      ]
     },
     "execution_count": 99,
     "metadata": {},
     "output_type": "execute_result"
    }
   ],
   "source": [
    "importlib.reload(utils.data_processing_gold_table)"
   ]
  },
  {
   "cell_type": "code",
   "execution_count": 100,
   "id": "00b92cb3-2833-4536-baff-0554f057666c",
   "metadata": {
    "scrolled": true
   },
   "outputs": [
    {
     "name": "stdout",
     "output_type": "stream",
     "text": [
      "loaded from: datamart/gold/label_store/gold_label_store_2023_01_01.parquet row count: 0\n",
      "loaded feature attributes from: datamart/silver/features_attributes/silver_features_attributes_2025_10_01.parquet row count: 12500\n",
      "loaded feature financials from: datamart/silver/features_financials/silver_features_financials_2025_10_01.parquet row count: 12500\n",
      "saved to: datamart/gold/feature_store/gold_feature_store_2023_01_01.parquet\n",
      "next snapshot date\n",
      "loaded from: datamart/gold/label_store/gold_label_store_2023_02_01.parquet row count: 0\n",
      "loaded feature attributes from: datamart/silver/features_attributes/silver_features_attributes_2025_10_01.parquet row count: 12500\n",
      "loaded feature financials from: datamart/silver/features_financials/silver_features_financials_2025_10_01.parquet row count: 12500\n",
      "saved to: datamart/gold/feature_store/gold_feature_store_2023_02_01.parquet\n",
      "next snapshot date\n",
      "loaded from: datamart/gold/label_store/gold_label_store_2023_03_01.parquet row count: 0\n",
      "loaded feature attributes from: datamart/silver/features_attributes/silver_features_attributes_2025_10_01.parquet row count: 12500\n",
      "loaded feature financials from: datamart/silver/features_financials/silver_features_financials_2025_10_01.parquet row count: 12500\n",
      "saved to: datamart/gold/feature_store/gold_feature_store_2023_03_01.parquet\n",
      "next snapshot date\n",
      "loaded from: datamart/gold/label_store/gold_label_store_2023_04_01.parquet row count: 0\n",
      "loaded feature attributes from: datamart/silver/features_attributes/silver_features_attributes_2025_10_01.parquet row count: 12500\n",
      "loaded feature financials from: datamart/silver/features_financials/silver_features_financials_2025_10_01.parquet row count: 12500\n",
      "saved to: datamart/gold/feature_store/gold_feature_store_2023_04_01.parquet\n",
      "next snapshot date\n",
      "loaded from: datamart/gold/label_store/gold_label_store_2023_05_01.parquet row count: 0\n",
      "loaded feature attributes from: datamart/silver/features_attributes/silver_features_attributes_2025_10_01.parquet row count: 12500\n",
      "loaded feature financials from: datamart/silver/features_financials/silver_features_financials_2025_10_01.parquet row count: 12500\n",
      "saved to: datamart/gold/feature_store/gold_feature_store_2023_05_01.parquet\n",
      "next snapshot date\n",
      "loaded from: datamart/gold/label_store/gold_label_store_2023_06_01.parquet row count: 0\n",
      "loaded feature attributes from: datamart/silver/features_attributes/silver_features_attributes_2025_10_01.parquet row count: 12500\n",
      "loaded feature financials from: datamart/silver/features_financials/silver_features_financials_2025_10_01.parquet row count: 12500\n",
      "saved to: datamart/gold/feature_store/gold_feature_store_2023_06_01.parquet\n",
      "next snapshot date\n",
      "loaded from: datamart/gold/label_store/gold_label_store_2023_07_01.parquet row count: 530\n",
      "loaded feature attributes from: datamart/silver/features_attributes/silver_features_attributes_2025_10_01.parquet row count: 12500\n",
      "loaded feature financials from: datamart/silver/features_financials/silver_features_financials_2025_10_01.parquet row count: 12500\n",
      "saved to: datamart/gold/feature_store/gold_feature_store_2023_07_01.parquet\n",
      "next snapshot date\n",
      "loaded from: datamart/gold/label_store/gold_label_store_2023_08_01.parquet row count: 501\n",
      "loaded feature attributes from: datamart/silver/features_attributes/silver_features_attributes_2025_10_01.parquet row count: 12500\n",
      "loaded feature financials from: datamart/silver/features_financials/silver_features_financials_2025_10_01.parquet row count: 12500\n",
      "saved to: datamart/gold/feature_store/gold_feature_store_2023_08_01.parquet\n",
      "next snapshot date\n",
      "loaded from: datamart/gold/label_store/gold_label_store_2023_09_01.parquet row count: 506\n",
      "loaded feature attributes from: datamart/silver/features_attributes/silver_features_attributes_2025_10_01.parquet row count: 12500\n",
      "loaded feature financials from: datamart/silver/features_financials/silver_features_financials_2025_10_01.parquet row count: 12500\n",
      "saved to: datamart/gold/feature_store/gold_feature_store_2023_09_01.parquet\n",
      "next snapshot date\n",
      "loaded from: datamart/gold/label_store/gold_label_store_2023_10_01.parquet row count: 510\n",
      "loaded feature attributes from: datamart/silver/features_attributes/silver_features_attributes_2025_10_01.parquet row count: 12500\n",
      "loaded feature financials from: datamart/silver/features_financials/silver_features_financials_2025_10_01.parquet row count: 12500\n",
      "saved to: datamart/gold/feature_store/gold_feature_store_2023_10_01.parquet\n",
      "next snapshot date\n",
      "loaded from: datamart/gold/label_store/gold_label_store_2023_11_01.parquet row count: 521\n",
      "loaded feature attributes from: datamart/silver/features_attributes/silver_features_attributes_2025_10_01.parquet row count: 12500\n",
      "loaded feature financials from: datamart/silver/features_financials/silver_features_financials_2025_10_01.parquet row count: 12500\n",
      "saved to: datamart/gold/feature_store/gold_feature_store_2023_11_01.parquet\n",
      "next snapshot date\n",
      "loaded from: datamart/gold/label_store/gold_label_store_2023_12_01.parquet row count: 517\n",
      "loaded feature attributes from: datamart/silver/features_attributes/silver_features_attributes_2025_10_01.parquet row count: 12500\n",
      "loaded feature financials from: datamart/silver/features_financials/silver_features_financials_2025_10_01.parquet row count: 12500\n",
      "saved to: datamart/gold/feature_store/gold_feature_store_2023_12_01.parquet\n",
      "next snapshot date\n",
      "loaded from: datamart/gold/label_store/gold_label_store_2024_01_01.parquet row count: 471\n",
      "loaded feature attributes from: datamart/silver/features_attributes/silver_features_attributes_2025_10_01.parquet row count: 12500\n",
      "loaded feature financials from: datamart/silver/features_financials/silver_features_financials_2025_10_01.parquet row count: 12500\n"
     ]
    },
    {
     "name": "stderr",
     "output_type": "stream",
     "text": [
      "                                                                                "
     ]
    },
    {
     "name": "stdout",
     "output_type": "stream",
     "text": [
      "saved to: datamart/gold/feature_store/gold_feature_store_2024_01_01.parquet\n",
      "next snapshot date\n",
      "loaded from: datamart/gold/label_store/gold_label_store_2024_02_01.parquet row count: 481\n",
      "loaded feature attributes from: datamart/silver/features_attributes/silver_features_attributes_2025_10_01.parquet row count: 12500\n",
      "loaded feature financials from: datamart/silver/features_financials/silver_features_financials_2025_10_01.parquet row count: 12500\n",
      "saved to: datamart/gold/feature_store/gold_feature_store_2024_02_01.parquet\n",
      "next snapshot date\n",
      "loaded from: datamart/gold/label_store/gold_label_store_2024_03_01.parquet row count: 454\n",
      "loaded feature attributes from: datamart/silver/features_attributes/silver_features_attributes_2025_10_01.parquet row count: 12500\n",
      "loaded feature financials from: datamart/silver/features_financials/silver_features_financials_2025_10_01.parquet row count: 12500\n",
      "saved to: datamart/gold/feature_store/gold_feature_store_2024_03_01.parquet\n",
      "next snapshot date\n",
      "loaded from: datamart/gold/label_store/gold_label_store_2024_04_01.parquet row count: 487\n",
      "loaded feature attributes from: datamart/silver/features_attributes/silver_features_attributes_2025_10_01.parquet row count: 12500\n",
      "loaded feature financials from: datamart/silver/features_financials/silver_features_financials_2025_10_01.parquet row count: 12500\n",
      "saved to: datamart/gold/feature_store/gold_feature_store_2024_04_01.parquet\n",
      "next snapshot date\n",
      "loaded from: datamart/gold/label_store/gold_label_store_2024_05_01.parquet row count: 491\n",
      "loaded feature attributes from: datamart/silver/features_attributes/silver_features_attributes_2025_10_01.parquet row count: 12500\n",
      "loaded feature financials from: datamart/silver/features_financials/silver_features_financials_2025_10_01.parquet row count: 12500\n"
     ]
    },
    {
     "name": "stderr",
     "output_type": "stream",
     "text": [
      "                                                                                "
     ]
    },
    {
     "name": "stdout",
     "output_type": "stream",
     "text": [
      "saved to: datamart/gold/feature_store/gold_feature_store_2024_05_01.parquet\n",
      "next snapshot date\n",
      "loaded from: datamart/gold/label_store/gold_label_store_2024_06_01.parquet row count: 489\n",
      "loaded feature attributes from: datamart/silver/features_attributes/silver_features_attributes_2025_10_01.parquet row count: 12500\n",
      "loaded feature financials from: datamart/silver/features_financials/silver_features_financials_2025_10_01.parquet row count: 12500\n",
      "saved to: datamart/gold/feature_store/gold_feature_store_2024_06_01.parquet\n",
      "next snapshot date\n",
      "loaded from: datamart/gold/label_store/gold_label_store_2024_07_01.parquet row count: 485\n",
      "loaded feature attributes from: datamart/silver/features_attributes/silver_features_attributes_2025_10_01.parquet row count: 12500\n",
      "loaded feature financials from: datamart/silver/features_financials/silver_features_financials_2025_10_01.parquet row count: 12500\n",
      "saved to: datamart/gold/feature_store/gold_feature_store_2024_07_01.parquet\n",
      "next snapshot date\n",
      "loaded from: datamart/gold/label_store/gold_label_store_2024_08_01.parquet row count: 518\n",
      "loaded feature attributes from: datamart/silver/features_attributes/silver_features_attributes_2025_10_01.parquet row count: 12500\n",
      "loaded feature financials from: datamart/silver/features_financials/silver_features_financials_2025_10_01.parquet row count: 12500\n"
     ]
    },
    {
     "name": "stderr",
     "output_type": "stream",
     "text": [
      "                                                                                "
     ]
    },
    {
     "name": "stdout",
     "output_type": "stream",
     "text": [
      "saved to: datamart/gold/feature_store/gold_feature_store_2024_08_01.parquet\n",
      "next snapshot date\n",
      "loaded from: datamart/gold/label_store/gold_label_store_2024_09_01.parquet row count: 511\n",
      "loaded feature attributes from: datamart/silver/features_attributes/silver_features_attributes_2025_10_01.parquet row count: 12500\n",
      "loaded feature financials from: datamart/silver/features_financials/silver_features_financials_2025_10_01.parquet row count: 12500\n"
     ]
    },
    {
     "name": "stderr",
     "output_type": "stream",
     "text": [
      "                                                                                "
     ]
    },
    {
     "name": "stdout",
     "output_type": "stream",
     "text": [
      "saved to: datamart/gold/feature_store/gold_feature_store_2024_09_01.parquet\n",
      "next snapshot date\n",
      "loaded from: datamart/gold/label_store/gold_label_store_2024_10_01.parquet row count: 513\n",
      "loaded feature attributes from: datamart/silver/features_attributes/silver_features_attributes_2025_10_01.parquet row count: 12500\n",
      "loaded feature financials from: datamart/silver/features_financials/silver_features_financials_2025_10_01.parquet row count: 12500\n",
      "saved to: datamart/gold/feature_store/gold_feature_store_2024_10_01.parquet\n",
      "next snapshot date\n",
      "loaded from: datamart/gold/label_store/gold_label_store_2024_11_01.parquet row count: 491\n",
      "loaded feature attributes from: datamart/silver/features_attributes/silver_features_attributes_2025_10_01.parquet row count: 12500\n",
      "loaded feature financials from: datamart/silver/features_financials/silver_features_financials_2025_10_01.parquet row count: 12500\n",
      "saved to: datamart/gold/feature_store/gold_feature_store_2024_11_01.parquet\n",
      "next snapshot date\n",
      "loaded from: datamart/gold/label_store/gold_label_store_2024_12_01.parquet row count: 498\n",
      "loaded feature attributes from: datamart/silver/features_attributes/silver_features_attributes_2025_10_01.parquet row count: 12500\n",
      "loaded feature financials from: datamart/silver/features_financials/silver_features_financials_2025_10_01.parquet row count: 12500\n"
     ]
    },
    {
     "name": "stderr",
     "output_type": "stream",
     "text": [
      "                                                                                "
     ]
    },
    {
     "name": "stdout",
     "output_type": "stream",
     "text": [
      "saved to: datamart/gold/feature_store/gold_feature_store_2024_12_01.parquet\n",
      "next snapshot date\n",
      "loaded from: datamart/gold/label_store/gold_label_store_2025_01_01.parquet row count: 505\n",
      "loaded feature attributes from: datamart/silver/features_attributes/silver_features_attributes_2025_10_01.parquet row count: 12500\n",
      "loaded feature financials from: datamart/silver/features_financials/silver_features_financials_2025_10_01.parquet row count: 12500\n",
      "saved to: datamart/gold/feature_store/gold_feature_store_2025_01_01.parquet\n",
      "next snapshot date\n",
      "loaded from: datamart/gold/label_store/gold_label_store_2025_02_01.parquet row count: 543\n",
      "loaded feature attributes from: datamart/silver/features_attributes/silver_features_attributes_2025_10_01.parquet row count: 12500\n",
      "loaded feature financials from: datamart/silver/features_financials/silver_features_financials_2025_10_01.parquet row count: 12500\n",
      "saved to: datamart/gold/feature_store/gold_feature_store_2025_02_01.parquet\n",
      "next snapshot date\n",
      "loaded from: datamart/gold/label_store/gold_label_store_2025_03_01.parquet row count: 493\n",
      "loaded feature attributes from: datamart/silver/features_attributes/silver_features_attributes_2025_10_01.parquet row count: 12500\n",
      "loaded feature financials from: datamart/silver/features_financials/silver_features_financials_2025_10_01.parquet row count: 12500\n",
      "saved to: datamart/gold/feature_store/gold_feature_store_2025_03_01.parquet\n",
      "next snapshot date\n",
      "loaded from: datamart/gold/label_store/gold_label_store_2025_04_01.parquet row count: 456\n",
      "loaded feature attributes from: datamart/silver/features_attributes/silver_features_attributes_2025_10_01.parquet row count: 12500\n",
      "loaded feature financials from: datamart/silver/features_financials/silver_features_financials_2025_10_01.parquet row count: 12500\n",
      "saved to: datamart/gold/feature_store/gold_feature_store_2025_04_01.parquet\n",
      "next snapshot date\n",
      "loaded from: datamart/gold/label_store/gold_label_store_2025_05_01.parquet row count: 488\n",
      "loaded feature attributes from: datamart/silver/features_attributes/silver_features_attributes_2025_10_01.parquet row count: 12500\n",
      "loaded feature financials from: datamart/silver/features_financials/silver_features_financials_2025_10_01.parquet row count: 12500\n",
      "saved to: datamart/gold/feature_store/gold_feature_store_2025_05_01.parquet\n",
      "next snapshot date\n",
      "loaded from: datamart/gold/label_store/gold_label_store_2025_06_01.parquet row count: 515\n",
      "loaded feature attributes from: datamart/silver/features_attributes/silver_features_attributes_2025_10_01.parquet row count: 12500\n",
      "loaded feature financials from: datamart/silver/features_financials/silver_features_financials_2025_10_01.parquet row count: 12500\n"
     ]
    },
    {
     "name": "stderr",
     "output_type": "stream",
     "text": [
      "                                                                                "
     ]
    },
    {
     "name": "stdout",
     "output_type": "stream",
     "text": [
      "saved to: datamart/gold/feature_store/gold_feature_store_2025_06_01.parquet\n",
      "next snapshot date\n",
      "loaded from: datamart/gold/label_store/gold_label_store_2025_07_01.parquet row count: 526\n",
      "loaded feature attributes from: datamart/silver/features_attributes/silver_features_attributes_2025_10_01.parquet row count: 12500\n",
      "loaded feature financials from: datamart/silver/features_financials/silver_features_financials_2025_10_01.parquet row count: 12500\n"
     ]
    },
    {
     "name": "stderr",
     "output_type": "stream",
     "text": [
      "                                                                                "
     ]
    },
    {
     "name": "stdout",
     "output_type": "stream",
     "text": [
      "saved to: datamart/gold/feature_store/gold_feature_store_2025_07_01.parquet\n",
      "next snapshot date\n",
      "loaded from: datamart/gold/label_store/gold_label_store_2025_08_01.parquet row count: 0\n",
      "loaded feature attributes from: datamart/silver/features_attributes/silver_features_attributes_2025_10_01.parquet row count: 12500\n",
      "loaded feature financials from: datamart/silver/features_financials/silver_features_financials_2025_10_01.parquet row count: 12500\n"
     ]
    },
    {
     "name": "stderr",
     "output_type": "stream",
     "text": [
      "                                                                                "
     ]
    },
    {
     "name": "stdout",
     "output_type": "stream",
     "text": [
      "saved to: datamart/gold/feature_store/gold_feature_store_2025_08_01.parquet\n",
      "next snapshot date\n",
      "loaded from: datamart/gold/label_store/gold_label_store_2025_09_01.parquet row count: 0\n",
      "loaded feature attributes from: datamart/silver/features_attributes/silver_features_attributes_2025_10_01.parquet row count: 12500\n",
      "loaded feature financials from: datamart/silver/features_financials/silver_features_financials_2025_10_01.parquet row count: 12500\n"
     ]
    },
    {
     "name": "stderr",
     "output_type": "stream",
     "text": [
      "                                                                                "
     ]
    },
    {
     "name": "stdout",
     "output_type": "stream",
     "text": [
      "saved to: datamart/gold/feature_store/gold_feature_store_2025_09_01.parquet\n",
      "next snapshot date\n",
      "loaded from: datamart/gold/label_store/gold_label_store_2025_10_01.parquet row count: 0\n",
      "loaded feature attributes from: datamart/silver/features_attributes/silver_features_attributes_2025_10_01.parquet row count: 12500\n",
      "loaded feature financials from: datamart/silver/features_financials/silver_features_financials_2025_10_01.parquet row count: 12500\n",
      "saved to: datamart/gold/feature_store/gold_feature_store_2025_10_01.parquet\n",
      "next snapshot date\n",
      "loaded from: datamart/gold/label_store/gold_label_store_2025_11_01.parquet row count: 0\n",
      "loaded feature attributes from: datamart/silver/features_attributes/silver_features_attributes_2025_10_01.parquet row count: 12500\n",
      "loaded feature financials from: datamart/silver/features_financials/silver_features_financials_2025_10_01.parquet row count: 12500\n",
      "saved to: datamart/gold/feature_store/gold_feature_store_2025_11_01.parquet\n",
      "next snapshot date\n"
     ]
    }
   ],
   "source": [
    "for date_str in dates_str_lst[\"lms_loan_daily\"]:\n",
    "    utils.data_processing_gold_table.process_features_gold_table(date_str, gold_label_store_directory, gold_feature_store_directory, feature_date_str, silver_attribute_directory, silver_financials_directory, spark)"
   ]
  },
  {
   "cell_type": "code",
   "execution_count": 101,
   "id": "17c9640c-94e6-4039-b2fe-87f923393495",
   "metadata": {},
   "outputs": [
    {
     "name": "stdout",
     "output_type": "stream",
     "text": [
      "loaded from: datamart/gold/label_store/gold_label_store_2025_11_01.parquet row count: 0\n",
      "loaded feature attributes from: datamart/silver/features_attributes/silver_features_attributes_2025_10_01.parquet row count: 12500\n",
      "loaded feature financials from: datamart/silver/features_financials/silver_features_financials_2025_10_01.parquet row count: 12500\n",
      "saved to: datamart/gold/feature_store/gold_feature_store_2025_11_01.parquet\n",
      "next snapshot date\n"
     ]
    },
    {
     "data": {
      "text/plain": [
       "[('loan_id', 'string'),\n",
       " ('Customer_ID', 'string'),\n",
       " ('Age_as_of', 'int'),\n",
       " ('Occupation', 'string'),\n",
       " ('Annual_Income', 'float'),\n",
       " ('Credit_Mix', 'string'),\n",
       " ('snapshot_date', 'date')]"
      ]
     },
     "execution_count": 101,
     "metadata": {},
     "output_type": "execute_result"
    }
   ],
   "source": [
    "utils.data_processing_gold_table.process_features_gold_table(date_str, gold_label_store_directory, gold_feature_store_directory, feature_date_str, silver_attribute_directory, silver_financials_directory, spark).dtypes"
   ]
  },
  {
   "cell_type": "code",
   "execution_count": 102,
   "id": "aa605649-839f-43ac-b2aa-f1f2008b2422",
   "metadata": {},
   "outputs": [
    {
     "name": "stderr",
     "output_type": "stream",
     "text": [
      "                                                                                "
     ]
    },
    {
     "name": "stdout",
     "output_type": "stream",
     "text": [
      "row_count: 12500\n",
      "+--------------------+-----------+---------+------------+-------------+----------+-------------+\n",
      "|             loan_id|Customer_ID|Age_as_of|  Occupation|Annual_Income|Credit_Mix|snapshot_date|\n",
      "+--------------------+-----------+---------+------------+-------------+----------+-------------+\n",
      "|CUS_0x10ac_2024_0...| CUS_0x10ac|       29|   Developer|    16718.645|   Unknown|   2025-02-01|\n",
      "|CUS_0x10c5_2024_0...| CUS_0x10c5|       24|     Unknown|    158623.16|      Good|   2025-02-01|\n",
      "|CUS_0x1145_2024_0...| CUS_0x1145|       24|     Teacher|     17975.32|       Bad|   2025-02-01|\n",
      "|CUS_0x11ac_2024_0...| CUS_0x11ac|       26|  Journalist|     69136.54|  Standard|   2025-02-01|\n",
      "|CUS_0x122c_2024_0...| CUS_0x122c|       48|Entrepreneur|     36346.13|      Good|   2025-02-01|\n",
      "|CUS_0x1274_2024_0...| CUS_0x1274|      100|   Scientist|     49070.94|  Standard|   2025-02-01|\n",
      "|CUS_0x1288_2024_0...| CUS_0x1288|       34|      Doctor|     60938.13|       Bad|   2025-02-01|\n",
      "|CUS_0x12cc_2024_0...| CUS_0x12cc|       30|   Developer|     20521.36|  Standard|   2025-02-01|\n",
      "|CUS_0x1338_2024_0...| CUS_0x1338|       40|     Unknown|     20078.47|   Unknown|   2025-02-01|\n",
      "|CUS_0x1370_2024_0...| CUS_0x1370|       32|      Writer|     10216.36|       Bad|   2025-02-01|\n",
      "|CUS_0x1378_2024_0...| CUS_0x1378|       15|    Mechanic|     18064.06|   Unknown|   2025-02-01|\n",
      "|CUS_0x139b_2024_0...| CUS_0x139b|       46|   Scientist|      29313.3|      Good|   2025-02-01|\n",
      "|CUS_0x13a9_2024_0...| CUS_0x13a9|       46|     Manager|  1.9473208E7|      Good|   2025-02-01|\n",
      "|CUS_0x13ce_2024_0...| CUS_0x13ce|       52|     Manager|     18710.74|      Good|   2025-02-01|\n",
      "|CUS_0x147a_2024_0...| CUS_0x147a|       20|      Writer|      14384.4|  Standard|   2025-02-01|\n",
      "|CUS_0x1510_2024_0...| CUS_0x1510|       27|      Doctor|     53218.86|       Bad|   2025-02-01|\n",
      "|CUS_0x1572_2024_0...| CUS_0x1572|       39|    Engineer|      83384.2|  Standard|   2025-02-01|\n",
      "|CUS_0x159b_2024_0...| CUS_0x159b|       35|   Architect|     55670.07|  Standard|   2025-02-01|\n",
      "|CUS_0x15f1_2024_0...| CUS_0x15f1|       33|     Unknown|     51568.11|   Unknown|   2025-02-01|\n",
      "|CUS_0x1621_2024_0...| CUS_0x1621|       41|      Writer|     18329.93|  Standard|   2025-02-01|\n",
      "+--------------------+-----------+---------+------------+-------------+----------+-------------+\n",
      "only showing top 20 rows\n",
      "\n"
     ]
    }
   ],
   "source": [
    "folder_path = gold_feature_store_directory\n",
    "files_list = [folder_path+os.path.basename(f) for f in glob.glob(os.path.join(folder_path, '*'))]\n",
    "df = spark.read.option(\"header\", \"true\").parquet(*files_list)\n",
    "print(\"row_count:\",df.count())\n",
    "\n",
    "df.show()"
   ]
  },
  {
   "cell_type": "code",
   "execution_count": 4,
   "id": "449034c4-ff83-4c0f-859d-227cfa79e6f2",
   "metadata": {},
   "outputs": [
    {
     "name": "stdout",
     "output_type": "stream",
     "text": [
      "[NbConvertApp] Converting notebook data_processing_main.ipynb to python\n",
      "[NbConvertApp] Writing 9032 bytes to data_processing_main.py\n"
     ]
    }
   ],
   "source": [
    "!jupyter nbconvert --to python --TemplateExporter.exclude_input_prompt=True --TemplateExporter.exclude_output_prompt=True data_processing_main.ipynb"
   ]
  }
 ],
 "metadata": {
  "kernelspec": {
   "display_name": "Python 3 (ipykernel)",
   "language": "python",
   "name": "python3"
  },
  "language_info": {
   "codemirror_mode": {
    "name": "ipython",
    "version": 3
   },
   "file_extension": ".py",
   "mimetype": "text/x-python",
   "name": "python",
   "nbconvert_exporter": "python",
   "pygments_lexer": "ipython3",
   "version": "3.12.11"
  }
 },
 "nbformat": 4,
 "nbformat_minor": 5
}
